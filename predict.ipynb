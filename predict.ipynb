Task 1
The team at RealAgents knows that the city that a property is located in makes a difference to the sale price.

Unfortuntately they believe that this isn't always recorded in the data.

Calculate the number of missing values of the city.

You should use the data in the file "house_sales.csv".

Your output should be an object missing_city, that contains the number of missing values in this column.

1
import pandas as pd
2
import numpy as np
3
data = pd.read_csv("house_sales.csv")
4
data.replace("--",np.nan,inplace=True)
5
missing_city = data["city"].isnull().sum()
6
print(missing_city)
7
​
73
Task 2
Before you fit any models, you will need to make sure the data is clean.

The table below shows what the data should look like.

Create a cleaned version of the dataframe.

You should start with the data in the file "house_sales.csv".

Your output should be a dataframe named clean_data.

All column names and values should match the table below.

Column Name	Criteria
house_id	Nominal.
Unique identifier for houses.
Missing values not possible.
city	Nominal.
The city in which the house is located. One of 'Silvertown', 'Riverford', 'Teasdale' and 'Poppleton'
Replace missing values with "Unknown".
sale_price	Discrete.
The sale price of the house in whole dollars. Values can be any positive number greater than or equal to zero.
Remove missing entries.
sale_date	Discrete.
The date of the last sale of the house.
Replace missing values with 2023-01-01.
months_listed	Continuous.
The number of months the house was listed on the market prior to its last sale, rounded to one decimal place.
Replace missing values with mean number of months listed, to one decimal place.
bedrooms	Discrete.
The number of bedrooms in the house. Any positive values greater than or equal to zero.
Replace missing values with the mean number of bedrooms, rounded to the nearest integer.
house_type	Ordinal.
One of "Terraced", "Semi-detached", or "Detached".
Replace missing values with the most common house type.
area	Continuous.
The area of the house in square meters, rounded to one decimal place.
Replace missing values with the mean, to one decimal place.
1
import pandas as pd
2
​
3
# Load the data
4
data = pd.read_csv('house_sales.csv')
5
​
6
# Identify and replace missing values in 'city'
7
data.replace("--",np.nan,inplace=True)
8
data['city'].fillna('Unknown', inplace=True)
9
​
10
# Remove missing entries for 'sale_price'
11
data.dropna(subset=['sale_price'], inplace=True)
12
​
13
# Handle missing values for 'sale_date'
14
data['sale_date'].fillna('2023-01-01', inplace=True)
15
​
16
# Handle missing values for 'months_listed'
17
data['months_listed'] = pd.to_numeric(data['months_listed'], errors='coerce')
18
mean_months_listed = data['months_listed'].mean()
19
data['months_listed'].fillna(round(mean_months_listed, 1), inplace=True)
20
​
21
# Handle missing values for 'bedrooms'
22
data['bedrooms'] = pd.to_numeric(data['bedrooms'], errors='coerce')
23
mean_bedrooms = data['bedrooms'].mean()
24
data['bedrooms'].fillna(round(mean_bedrooms), inplace=True)
25
​
26
# Clean 'house_type' column
27
data['house_type'] = data['house_type'].replace({
28
    'Det.': 'Detached',
29
    'Semi': 'Semi-detached',
30
    'Terr.': 'Terraced'
31
})
32
data['house_type'].fillna(data['house_type'].mode()[0], inplace=True)
33
​
34
# Clean 'area' column: Remove 'sq.m.' suffix and convert to numeric
35
data['area'] = data['area'].str.replace('sq.m.', '', regex=False).astype(float)
36
mean_area = data['area'].mean()
37
data['area'].fillna(round(mean_area, 1), inplace=True)
38
​
39
# Save the cleaned data to a new DataFrame
40
clean_data = data.copy()
41
​
42
# Display the first few rows of the cleaned DataFrame
43
print(clean_data)
44
 
45
​
      house_id        city  sale_price  ... bedrooms     house_type   area
0      1217792  Silvertown       55943  ...        2  Semi-detached  107.8
1      1900913  Silvertown      384677  ...        5       Detached  498.8
2      1174927   Riverford      281707  ...        6       Detached  542.5
3      1773666  Silvertown      373251  ...        6       Detached  528.4
4      1258487  Silvertown      328885  ...        5       Detached  477.1
...        ...         ...         ...  ...      ...            ...    ...
1495   1123892   Riverford      198661  ...        5       Detached  432.2
1496   1327295   Poppleton      358304  ...        6       Detached  599.8
1497   1058161   Riverford      176612  ...        4       Detached  359.1
1498   1822037    Teasdale      197827  ...        3       Detached  253.7
1499   1679272   Poppleton      162099  ...        3       Detached  268.7

[1500 rows x 8 columns]
Task 3
The team at RealAgents have told you that they have always believed that the number of bedrooms is the biggest driver of house price.

Producing a table showing the difference in the average sale price by number of bedrooms along with the variance to investigate this question for the team.

You should start with the data in the file 'house_sales.csv'.

Your output should be a data frame named price_by_rooms.

It should include the three columns bedrooms, avg_price, var_price.

Your answers should be rounded to 1 decimal place.

1
import pandas as pd
2
​
3
# Load the data
4
data = pd.read_csv("house_sales.csv")
5
​
6
# Remove '--' and convert 'area' column to numeric, handling 'sq.m.' suffix
7
data['area'] = data['area'].str.replace('sq.m.', '').astype(float)
8
​
9
# Replace '--' with NaN for other columns and handle missing values as specified
10
data.replace("--", pd.NA, inplace=True)
11
data['city'].fillna("Unknown", inplace=True)
12
data['sale_date'].fillna("2023-01-01", inplace=True)
13
data['months_listed'] = pd.to_numeric(data['months_listed'], errors='coerce')
14
data['months_listed'].fillna(data['months_listed'].mean(), inplace=True)
15
data['bedrooms'] = pd.to_numeric(data['bedrooms'], errors='coerce')
16
data['bedrooms'].fillna(data['bedrooms'].mean(), inplace=True)
17
data['house_type'].fillna(data['house_type'].mode()[0], inplace=True)
18
data['area'].fillna(data['area'].mean(), inplace=True)
19
​
20
# Convert 'sale_date' to datetime
21
data['sale_date'] = pd.to_datetime(data['sale_date'])
22
​
23
# Aggregate data by number of bedrooms
24
price_by_rooms = data.groupby('bedrooms').agg(
25
    avg_price=('sale_price', 'mean'),
26
    var_price=('sale_price', 'var')
27
).reset_index()
28
​
29
# Round to 1 decimal place
30
price_by_rooms = price_by_rooms.round(1)
31
​
32
# Output the resulting dataframe
33
print(price_by_rooms)
34
​
   bedrooms  avg_price     var_price
0         2    67076.4  5.652896e+08
1         3   154665.1  2.378289e+09
2         4   234704.6  1.725211e+09
3         5   301515.9  2.484328e+09
4         6   375741.3  3.924432e+09
Task 4
Fit a baseline model to predict the sale price of a house.

Fit your model using the data contained in “train.csv”


Use “validation.csv” to predict new values based on your model. You must return a dataframe named base_result, that includes house_id and price. The price column must be your predicted values.

1
import pandas as pd
2
from sklearn.linear_model import LinearRegression
3
from sklearn.preprocessing import OneHotEncoder
4
from sklearn.compose import ColumnTransformer
5
from sklearn.pipeline import Pipeline
6
from sklearn.impute import SimpleImputer
7
​
8
# Load the data
9
train_data = pd.read_csv('train.csv')
10
validation_data = pd.read_csv('validation.csv')
11
​
12
# Define features and target variable
13
X_train = train_data.drop(columns=['house_id', 'sale_price'])
14
y_train = train_data['sale_price']
15
X_validation = validation_data.drop(columns=['house_id'])
16
​
17
# Define preprocessing for categorical and numerical features
18
preprocessor = ColumnTransformer(
19
    transformers=[
20
        ('num', SimpleImputer(strategy='mean'), ['bedrooms', 'area', 'months_listed']),
21
        ('cat', Pipeline(steps=[
22
            ('imputer', SimpleImputer(strategy='constant', fill_value='Unknown')),
23
            ('onehot', OneHotEncoder(handle_unknown='ignore'))
24
        ]), ['city', 'house_type'])
25
    ]
26
)
27
​
28
# Define the model pipeline
29
model = Pipeline(steps=[
30
    ('preprocessor', preprocessor),
31
    ('regressor', LinearRegression())
32
])
33
​
34
# Fit the model
35
model.fit(X_train, y_train)
36
​
37
# Make predictions on the validation data
38
predictions = model.predict(X_validation)
39
​
40
# Create the results DataFrame
41
base_result = validation_data[['house_id']].copy()
42
base_result['price'] = predictions
43
​
44
# Output the result
45
print(base_result)
46
​
     house_id          price
0     1331375  121527.827316
1     1630115  304386.625267
2     1645745  384760.100656
3     1336775  123976.268985
4     1888274  271186.199353
..        ...            ...
295   1986255  351916.468218
296   1896276  370138.966354
297   1758223  259024.117384
298   1752010  169120.160936
299   1651404  391289.206911

[300 rows x 2 columns]
Task 5
Fit a comparison model to predict the sale price of a house.

Fit your model using the data contained in “train.csv”


Use “validation.csv” to predict new values based on your model. You must return a dataframe named compare_result, that includes house_id and price. The price column must be your predicted values.

1
import pandas as pd
2
from sklearn.ensemble import RandomForestRegressor
3
from sklearn.preprocessing import OneHotEncoder
4
from sklearn.compose import ColumnTransformer
5
from sklearn.pipeline import Pipeline
6
from sklearn.impute import SimpleImputer
7
​
8
# Load the data
9
train_data = pd.read_csv('train.csv')
10
validation_data = pd.read_csv('validation.csv')
11
​
12
# Define features and target variable
13
X_train = train_data.drop(columns=['house_id', 'sale_price'])
14
y_train = train_data['sale_price']
15
X_validation = validation_data.drop(columns=['house_id'])
16
​
17
# Define preprocessing for categorical and numerical features
18
preprocessor = ColumnTransformer(
19
    transformers=[
20
        ('num', SimpleImputer(strategy='mean'), ['bedrooms', 'area', 'months_listed']),
21
        ('cat', Pipeline(steps=[
22
            ('imputer', SimpleImputer(strategy='constant', fill_value='Unknown')),
23
            ('onehot', OneHotEncoder(handle_unknown='ignore'))
24
        ]), ['city', 'house_type'])
25
    ]
26
)
27
​
28
# Define the model pipeline
29
model = Pipeline(steps=[
30
    ('preprocessor', preprocessor),
31
    ('regressor', RandomForestRegressor(n_estimators=100, random_state=0))
32
])
33
​
34
# Fit the model
35
model.fit(X_train, y_train)
36
​
37
# Make predictions on the validation data
38
predictions = model.predict(X_validation)
39
​
40
# Create the results DataFrame
41
compare_result = validation_data[['house_id']].copy()
42
compare_result['price'] = predictions
43
​
44
# Output the result
45
print(compare_result)
46
​
     house_id      price
0     1331375   82508.23
1     1630115  302637.81
2     1645745  407608.66
3     1336775  109145.24
4     1888274  266806.75
..        ...        ...
295   1986255  362960.07
296   1896276  392788.69
297   1758223  265025.58
298   1752010  178806.29
299   1651404  424689.95

[300 rows x 2 columns]

